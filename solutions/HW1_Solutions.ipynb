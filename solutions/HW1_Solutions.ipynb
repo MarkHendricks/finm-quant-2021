{
 "cells": [
  {
   "cell_type": "code",
   "execution_count": 1,
   "metadata": {},
   "outputs": [],
   "source": [
    "import pandas as pd\n",
    "import numpy as np"
   ]
  },
  {
   "cell_type": "code",
   "execution_count": 2,
   "metadata": {},
   "outputs": [],
   "source": [
    "data = pd.read_excel('../data/multi_asset_returns.xlsx')\n",
    "data.set_index('Date',inplace=True)"
   ]
  },
  {
   "cell_type": "markdown",
   "metadata": {},
   "source": [
    "# 1) Summary Statistics"
   ]
  },
  {
   "cell_type": "code",
   "execution_count": 3,
   "metadata": {},
   "outputs": [
    {
     "name": "stdout",
     "output_type": "stream",
     "text": [
      "Asset mean excess return\n"
     ]
    },
    {
     "data": {
      "text/plain": [
       "SPY    0.013476\n",
       "EFA    0.008321\n",
       "EEM    0.008241\n",
       "PSP    0.013148\n",
       "QAI    0.002260\n",
       "HYG    0.006805\n",
       "DBC    0.000735\n",
       "IYR    0.013603\n",
       "IEF    0.002635\n",
       "BWX    0.001748\n",
       "TIP    0.002922\n",
       "dtype: float64"
      ]
     },
     "metadata": {},
     "output_type": "display_data"
    },
    {
     "name": "stdout",
     "output_type": "stream",
     "text": [
      "Asset excess return volatility\n"
     ]
    },
    {
     "data": {
      "text/plain": [
       "SPY    0.040408\n",
       "EFA    0.046877\n",
       "EEM    0.056732\n",
       "PSP    0.062329\n",
       "QAI    0.014056\n",
       "HYG    0.024916\n",
       "DBC    0.051458\n",
       "IYR    0.052314\n",
       "IEF    0.016481\n",
       "BWX    0.021536\n",
       "TIP    0.012953\n",
       "dtype: float64"
      ]
     },
     "metadata": {},
     "output_type": "display_data"
    }
   ],
   "source": [
    "print('Asset mean excess return')\n",
    "display(data.mean())\n",
    "print('Asset excess return volatility')\n",
    "display(data.std())"
   ]
  },
  {
   "cell_type": "code",
   "execution_count": 4,
   "metadata": {},
   "outputs": [
    {
     "name": "stdout",
     "output_type": "stream",
     "text": [
      "Asset with best Sharpe is:  SPY 1.155296479856146\n",
      "Asset with worst Sharpe is:  DBC 0.04949358760568813\n"
     ]
    }
   ],
   "source": [
    "sharpes = (data.mean() / data.std()) * np.sqrt(12)\n",
    "print(\"Asset with best Sharpe is: \", sharpes.idxmax() ,sharpes.max())\n",
    "print(\"Asset with worst Sharpe is: \", sharpes.idxmin() ,sharpes.min())"
   ]
  },
  {
   "cell_type": "markdown",
   "metadata": {},
   "source": [
    "# 2) MV Frontier"
   ]
  },
  {
   "cell_type": "code",
   "execution_count": 5,
   "metadata": {},
   "outputs": [],
   "source": [
    "sig = data.cov()\n",
    "mu = data.mean()"
   ]
  },
  {
   "cell_type": "code",
   "execution_count": 6,
   "metadata": {},
   "outputs": [],
   "source": [
    "w_tan = (1 / (np.ones((1,sig.shape[0])) @ np.linalg.inv(sig) @ mu)) * np.linalg.inv(sig) @ mu"
   ]
  },
  {
   "cell_type": "code",
   "execution_count": 7,
   "metadata": {},
   "outputs": [
    {
     "data": {
      "text/plain": [
       "array([ 1.45263509, -0.05524948,  0.07476791, -0.14457968, -2.28330591,\n",
       "        0.79843187, -0.03697442, -0.31655109,  1.54247284, -0.28618334,\n",
       "        0.25453622])"
      ]
     },
     "execution_count": 7,
     "metadata": {},
     "output_type": "execute_result"
    }
   ],
   "source": [
    "w_tan"
   ]
  },
  {
   "cell_type": "code",
   "execution_count": 8,
   "metadata": {},
   "outputs": [],
   "source": [
    "portfolio_returns = data @ w_tan"
   ]
  },
  {
   "cell_type": "code",
   "execution_count": 9,
   "metadata": {},
   "outputs": [
    {
     "name": "stdout",
     "output_type": "stream",
     "text": [
      "Tangency portfolio mean returns =  0.018080079310912243\n",
      "Tangency portfolio return vol =  0.028077837248828813\n",
      "Tangency portfolio Sharpe ratio =  2.230628783396139\n"
     ]
    }
   ],
   "source": [
    "print('Tangency portfolio mean returns = ',portfolio_returns.mean())\n",
    "print('Tangency portfolio return vol = ',portfolio_returns.std())\n",
    "print('Tangency portfolio Sharpe ratio = ',np.sqrt(12)* portfolio_returns.mean() / portfolio_returns.std())"
   ]
  },
  {
   "cell_type": "markdown",
   "metadata": {},
   "source": [
    "# 3) The Allocation"
   ]
  },
  {
   "cell_type": "code",
   "execution_count": 10,
   "metadata": {},
   "outputs": [],
   "source": [
    "mu_p = 0.0075"
   ]
  },
  {
   "cell_type": "code",
   "execution_count": 11,
   "metadata": {},
   "outputs": [
    {
     "data": {
      "text/plain": [
       "array([ 0.60258381, -0.02291866,  0.03101531, -0.05997472, -0.94716367,\n",
       "        0.33120646, -0.01533777, -0.1313121 ,  0.63985042, -0.11871491,\n",
       "        0.10558702])"
      ]
     },
     "execution_count": 11,
     "metadata": {},
     "output_type": "execute_result"
    }
   ],
   "source": [
    "delta = ((np.ones((1,sig.shape[0])) @ np.linalg.inv(sig) @ mu) / (mu @ np.linalg.inv(sig) @ mu)) * mu_p\n",
    "w_star = delta * w_tan\n",
    "w_star"
   ]
  },
  {
   "cell_type": "code",
   "execution_count": 12,
   "metadata": {},
   "outputs": [
    {
     "name": "stdout",
     "output_type": "stream",
     "text": [
      "Portfolio mean returns =  0.007499999999999995\n",
      "Portfolio return vol =  0.011647281836817944\n",
      "Portfolio Sharpe ratio =  2.2306287833961376\n"
     ]
    }
   ],
   "source": [
    "portfolio_returns = data @ w_star\n",
    "\n",
    "print('Portfolio mean returns = ',portfolio_returns.mean())\n",
    "print('Portfolio return vol = ',portfolio_returns.std())\n",
    "print('Portfolio Sharpe ratio = ',np.sqrt(12)* portfolio_returns.mean() / portfolio_returns.std())"
   ]
  },
  {
   "cell_type": "markdown",
   "metadata": {},
   "source": [
    "# 4) Long-short positions"
   ]
  },
  {
   "cell_type": "code",
   "execution_count": 13,
   "metadata": {},
   "outputs": [],
   "source": [
    "data = data[['SPY','EFA']]"
   ]
  },
  {
   "cell_type": "code",
   "execution_count": 14,
   "metadata": {},
   "outputs": [
    {
     "data": {
      "text/plain": [
       "array([ 0.84488024, -0.46701113])"
      ]
     },
     "execution_count": 14,
     "metadata": {},
     "output_type": "execute_result"
    }
   ],
   "source": [
    "sig = data.cov()\n",
    "mu = data.mean()\n",
    "w_tan = (1 / (np.ones((1,sig.shape[0])) @ np.linalg.inv(sig) @ mu)) * np.linalg.inv(sig) @ mu\n",
    "\n",
    "mu_p = 0.0075\n",
    "\n",
    "delta = ((np.ones((1,sig.shape[0])) @ np.linalg.inv(sig) @ mu) / (mu @ np.linalg.inv(sig) @ mu)) * mu_p\n",
    "w_star = delta * w_tan\n",
    "w_star"
   ]
  },
  {
   "cell_type": "code",
   "execution_count": 15,
   "metadata": {},
   "outputs": [],
   "source": [
    "data['EFA'] = data['EFA'] + 0.002"
   ]
  },
  {
   "cell_type": "code",
   "execution_count": 16,
   "metadata": {},
   "outputs": [
    {
     "data": {
      "text/plain": [
       "array([ 0.83759562, -0.36700111])"
      ]
     },
     "execution_count": 16,
     "metadata": {},
     "output_type": "execute_result"
    }
   ],
   "source": [
    "sig = data.cov()\n",
    "mu = data.mean()\n",
    "w_tan = (1 / (np.ones((1,sig.shape[0])) @ np.linalg.inv(sig) @ mu)) * np.linalg.inv(sig) @ mu\n",
    "\n",
    "mu_p = 0.0075\n",
    "\n",
    "delta = ((np.ones((1,sig.shape[0])) @ np.linalg.inv(sig) @ mu) / (mu @ np.linalg.inv(sig) @ mu)) * mu_p\n",
    "w_star = delta * w_tan\n",
    "w_star"
   ]
  },
  {
   "cell_type": "markdown",
   "metadata": {},
   "source": [
    "# 5) Robustness"
   ]
  },
  {
   "cell_type": "code",
   "execution_count": 17,
   "metadata": {},
   "outputs": [],
   "source": [
    "data = pd.read_excel('../data/multi_asset_returns.xlsx')\n",
    "data.set_index('Date',inplace=True)"
   ]
  },
  {
   "cell_type": "code",
   "execution_count": 18,
   "metadata": {},
   "outputs": [],
   "source": [
    "sig = data.cov()\n",
    "mu = data.mean()\n",
    "\n",
    "sig_d = np.zeros(sig.shape)\n",
    "np.fill_diagonal(sig_d,sig.to_numpy().diagonal())"
   ]
  },
  {
   "cell_type": "code",
   "execution_count": 19,
   "metadata": {},
   "outputs": [
    {
     "data": {
      "text/plain": [
       "array([0.10786432, 0.04948678, 0.03346283, 0.04423098, 0.14949574,\n",
       "       0.1432725 , 0.00362871, 0.06495742, 0.12677535, 0.04924664,\n",
       "       0.2275787 ])"
      ]
     },
     "execution_count": 19,
     "metadata": {},
     "output_type": "execute_result"
    }
   ],
   "source": [
    "w_tan = (1 / (np.ones((1,sig_d.shape[0])) @ np.linalg.inv(sig_d) @ mu)) * np.linalg.inv(sig_d) @ mu\n",
    "w_tan"
   ]
  },
  {
   "cell_type": "markdown",
   "metadata": {},
   "source": [
    "# 6) Out-of-Sample Performance"
   ]
  },
  {
   "cell_type": "code",
   "execution_count": 20,
   "metadata": {},
   "outputs": [],
   "source": [
    "oos = data.loc['2019-01-01':]\n",
    "data = data.loc[:'2018-12-31']"
   ]
  },
  {
   "cell_type": "code",
   "execution_count": 21,
   "metadata": {},
   "outputs": [
    {
     "data": {
      "text/plain": [
       "array([ 0.68427099, -0.02328557, -0.01476364, -0.1223508 , -0.92567426,\n",
       "        0.43883476, -0.07043195, -0.15687813,  0.46354033,  0.01278168,\n",
       "        0.18051016])"
      ]
     },
     "execution_count": 21,
     "metadata": {},
     "output_type": "execute_result"
    }
   ],
   "source": [
    "sig = data.cov()\n",
    "mu = data.mean()\n",
    "w_tan = (1 / (np.ones((1,sig.shape[0])) @ np.linalg.inv(sig) @ mu)) * np.linalg.inv(sig) @ mu\n",
    "\n",
    "mu_p = 0.0075\n",
    "\n",
    "delta = ((np.ones((1,sig.shape[0])) @ np.linalg.inv(sig) @ mu) / (mu @ np.linalg.inv(sig) @ mu)) * mu_p\n",
    "w_star = delta * w_tan\n",
    "w_star"
   ]
  },
  {
   "cell_type": "code",
   "execution_count": 22,
   "metadata": {},
   "outputs": [
    {
     "name": "stdout",
     "output_type": "stream",
     "text": [
      "In sample Sharpe =  2.393472529246011\n",
      "Out of sample Sharpe =  1.766822102591454\n"
     ]
    }
   ],
   "source": [
    "returns_insample = data @ w_star\n",
    "print(\"In sample Sharpe = \", np.sqrt(12) * returns_insample.mean() / returns_insample.std())\n",
    "\n",
    "returns_oos = oos @ w_star\n",
    "print(\"Out of sample Sharpe = \", np.sqrt(12) * returns_oos.mean() / returns_oos.std())"
   ]
  },
  {
   "cell_type": "markdown",
   "metadata": {},
   "source": [
    "# 7) Robust Out-of-Sample Performance"
   ]
  },
  {
   "cell_type": "code",
   "execution_count": 23,
   "metadata": {},
   "outputs": [
    {
     "data": {
      "text/plain": [
       "array([ 0.06007842,  0.02306873,  0.01431151,  0.02272127,  0.06982367,\n",
       "        0.08016955, -0.00488151,  0.03430989,  0.05866074,  0.02130272,\n",
       "        0.08698857])"
      ]
     },
     "execution_count": 23,
     "metadata": {},
     "output_type": "execute_result"
    }
   ],
   "source": [
    "sig = data.cov()\n",
    "mu = data.mean()\n",
    "\n",
    "sig_d = np.zeros(sig.shape)\n",
    "np.fill_diagonal(sig_d,sig.to_numpy().diagonal())\n",
    "\n",
    "w_tan = (1 / (np.ones((1,sig_d.shape[0])) @ np.linalg.inv(sig_d) @ mu)) * np.linalg.inv(sig_d) @ mu\n",
    "\n",
    "mu_p = 0.0075\n",
    "\n",
    "delta = ((np.ones((1,sig.shape[0])) @ np.linalg.inv(sig) @ mu) / (mu @ np.linalg.inv(sig) @ mu)) * mu_p\n",
    "w_star = delta * w_tan\n",
    "w_star"
   ]
  },
  {
   "cell_type": "code",
   "execution_count": 24,
   "metadata": {},
   "outputs": [
    {
     "name": "stdout",
     "output_type": "stream",
     "text": [
      "In sample Sharpe =  1.044438985268334\n",
      "Out of sample Sharpe =  1.1991481815756602\n"
     ]
    }
   ],
   "source": [
    "returns_insample = data @ w_star\n",
    "print(\"In sample Sharpe = \", np.sqrt(12) * returns_insample.mean() / returns_insample.std())\n",
    "\n",
    "returns_oos = oos @ w_star\n",
    "print(\"Out of sample Sharpe = \", np.sqrt(12) * returns_oos.mean() / returns_oos.std())"
   ]
  }
 ],
 "metadata": {
  "kernelspec": {
   "display_name": "Python 3",
   "language": "python",
   "name": "python3"
  },
  "language_info": {
   "codemirror_mode": {
    "name": "ipython",
    "version": 3
   },
   "file_extension": ".py",
   "mimetype": "text/x-python",
   "name": "python",
   "nbconvert_exporter": "python",
   "pygments_lexer": "ipython3",
   "version": "3.8.2"
  }
 },
 "nbformat": 4,
 "nbformat_minor": 2
}
