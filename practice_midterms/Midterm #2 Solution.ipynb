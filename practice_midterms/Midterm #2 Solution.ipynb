{
 "cells": [
  {
   "cell_type": "markdown",
   "metadata": {},
   "source": [
    "# Midterm #2 Solution"
   ]
  },
  {
   "cell_type": "code",
   "execution_count": 1,
   "metadata": {},
   "outputs": [],
   "source": [
    "import numpy as np\n",
    "import pandas as pd\n",
    "import statsmodels.api as sm"
   ]
  },
  {
   "cell_type": "code",
   "execution_count": 2,
   "metadata": {},
   "outputs": [
    {
     "data": {
      "text/html": [
       "<div>\n",
       "<style scoped>\n",
       "    .dataframe tbody tr th:only-of-type {\n",
       "        vertical-align: middle;\n",
       "    }\n",
       "\n",
       "    .dataframe tbody tr th {\n",
       "        vertical-align: top;\n",
       "    }\n",
       "\n",
       "    .dataframe thead th {\n",
       "        text-align: right;\n",
       "    }\n",
       "</style>\n",
       "<table border=\"1\" class=\"dataframe\">\n",
       "  <thead>\n",
       "    <tr style=\"text-align: right;\">\n",
       "      <th></th>\n",
       "      <th>Domestic Equity</th>\n",
       "      <th>Foreign Equity</th>\n",
       "      <th>Emerging Markets</th>\n",
       "      <th>Private Equity</th>\n",
       "      <th>Absolute Return</th>\n",
       "      <th>High Yield</th>\n",
       "      <th>Commodities</th>\n",
       "      <th>Real Estate</th>\n",
       "      <th>Domestic Bonds</th>\n",
       "      <th>Foreign Bonds</th>\n",
       "      <th>Inflation-Indexed</th>\n",
       "    </tr>\n",
       "    <tr>\n",
       "      <th>Dates</th>\n",
       "      <th></th>\n",
       "      <th></th>\n",
       "      <th></th>\n",
       "      <th></th>\n",
       "      <th></th>\n",
       "      <th></th>\n",
       "      <th></th>\n",
       "      <th></th>\n",
       "      <th></th>\n",
       "      <th></th>\n",
       "      <th></th>\n",
       "    </tr>\n",
       "  </thead>\n",
       "  <tbody>\n",
       "    <tr>\n",
       "      <th>2012-01-31</th>\n",
       "      <td>0.046557</td>\n",
       "      <td>0.052878</td>\n",
       "      <td>0.110103</td>\n",
       "      <td>0.107814</td>\n",
       "      <td>0.017167</td>\n",
       "      <td>0.014830</td>\n",
       "      <td>0.022494</td>\n",
       "      <td>0.066191</td>\n",
       "      <td>0.008801</td>\n",
       "      <td>0.027549</td>\n",
       "      <td>0.023063</td>\n",
       "    </tr>\n",
       "    <tr>\n",
       "      <th>2012-02-29</th>\n",
       "      <td>0.043496</td>\n",
       "      <td>0.048422</td>\n",
       "      <td>0.052808</td>\n",
       "      <td>0.055455</td>\n",
       "      <td>0.013161</td>\n",
       "      <td>0.021057</td>\n",
       "      <td>0.060720</td>\n",
       "      <td>-0.006844</td>\n",
       "      <td>-0.010903</td>\n",
       "      <td>0.002652</td>\n",
       "      <td>-0.005690</td>\n",
       "    </tr>\n",
       "    <tr>\n",
       "      <th>2012-03-30</th>\n",
       "      <td>0.032247</td>\n",
       "      <td>0.004298</td>\n",
       "      <td>-0.031156</td>\n",
       "      <td>0.015083</td>\n",
       "      <td>-0.006002</td>\n",
       "      <td>-0.009427</td>\n",
       "      <td>-0.023413</td>\n",
       "      <td>0.044931</td>\n",
       "      <td>-0.015821</td>\n",
       "      <td>-0.007660</td>\n",
       "      <td>-0.008505</td>\n",
       "    </tr>\n",
       "    <tr>\n",
       "      <th>2012-04-30</th>\n",
       "      <td>-0.006676</td>\n",
       "      <td>-0.020769</td>\n",
       "      <td>-0.017006</td>\n",
       "      <td>-0.023208</td>\n",
       "      <td>-0.002884</td>\n",
       "      <td>0.011374</td>\n",
       "      <td>-0.005123</td>\n",
       "      <td>0.025843</td>\n",
       "      <td>0.025090</td>\n",
       "      <td>0.010958</td>\n",
       "      <td>0.017831</td>\n",
       "    </tr>\n",
       "    <tr>\n",
       "      <th>2012-05-31</th>\n",
       "      <td>-0.060329</td>\n",
       "      <td>-0.111715</td>\n",
       "      <td>-0.107214</td>\n",
       "      <td>-0.110425</td>\n",
       "      <td>-0.012932</td>\n",
       "      <td>-0.032487</td>\n",
       "      <td>-0.130060</td>\n",
       "      <td>-0.042363</td>\n",
       "      <td>0.028429</td>\n",
       "      <td>-0.029535</td>\n",
       "      <td>0.019190</td>\n",
       "    </tr>\n",
       "    <tr>\n",
       "      <th>...</th>\n",
       "      <td>...</td>\n",
       "      <td>...</td>\n",
       "      <td>...</td>\n",
       "      <td>...</td>\n",
       "      <td>...</td>\n",
       "      <td>...</td>\n",
       "      <td>...</td>\n",
       "      <td>...</td>\n",
       "      <td>...</td>\n",
       "      <td>...</td>\n",
       "      <td>...</td>\n",
       "    </tr>\n",
       "    <tr>\n",
       "      <th>2019-05-31</th>\n",
       "      <td>-0.066198</td>\n",
       "      <td>-0.052755</td>\n",
       "      <td>-0.075726</td>\n",
       "      <td>-0.056143</td>\n",
       "      <td>-0.015476</td>\n",
       "      <td>-0.021744</td>\n",
       "      <td>-0.084561</td>\n",
       "      <td>-0.003921</td>\n",
       "      <td>0.028056</td>\n",
       "      <td>0.009023</td>\n",
       "      <td>0.015095</td>\n",
       "    </tr>\n",
       "    <tr>\n",
       "      <th>2019-06-28</th>\n",
       "      <td>0.067229</td>\n",
       "      <td>0.056738</td>\n",
       "      <td>0.059691</td>\n",
       "      <td>0.054962</td>\n",
       "      <td>0.015879</td>\n",
       "      <td>0.029173</td>\n",
       "      <td>0.041941</td>\n",
       "      <td>0.010348</td>\n",
       "      <td>0.009794</td>\n",
       "      <td>0.031919</td>\n",
       "      <td>0.005117</td>\n",
       "    </tr>\n",
       "    <tr>\n",
       "      <th>2019-07-31</th>\n",
       "      <td>0.013501</td>\n",
       "      <td>-0.021091</td>\n",
       "      <td>-0.028182</td>\n",
       "      <td>-0.004970</td>\n",
       "      <td>-0.002933</td>\n",
       "      <td>-0.000054</td>\n",
       "      <td>-0.003736</td>\n",
       "      <td>0.022205</td>\n",
       "      <td>-0.001231</td>\n",
       "      <td>-0.014542</td>\n",
       "      <td>0.001540</td>\n",
       "    </tr>\n",
       "    <tr>\n",
       "      <th>2019-08-30</th>\n",
       "      <td>-0.019007</td>\n",
       "      <td>-0.021504</td>\n",
       "      <td>-0.040085</td>\n",
       "      <td>-0.013188</td>\n",
       "      <td>-0.005225</td>\n",
       "      <td>0.004637</td>\n",
       "      <td>-0.058492</td>\n",
       "      <td>0.032080</td>\n",
       "      <td>0.037227</td>\n",
       "      <td>0.016247</td>\n",
       "      <td>0.021039</td>\n",
       "    </tr>\n",
       "    <tr>\n",
       "      <th>2019-09-30</th>\n",
       "      <td>0.018047</td>\n",
       "      <td>0.030209</td>\n",
       "      <td>0.015476</td>\n",
       "      <td>0.021125</td>\n",
       "      <td>0.002858</td>\n",
       "      <td>0.002970</td>\n",
       "      <td>0.016060</td>\n",
       "      <td>0.017476</td>\n",
       "      <td>-0.013294</td>\n",
       "      <td>-0.011568</td>\n",
       "      <td>-0.012491</td>\n",
       "    </tr>\n",
       "  </tbody>\n",
       "</table>\n",
       "<p>93 rows × 11 columns</p>\n",
       "</div>"
      ],
      "text/plain": [
       "            Domestic Equity  Foreign Equity  Emerging Markets  Private Equity  \\\n",
       "Dates                                                                           \n",
       "2012-01-31         0.046557        0.052878          0.110103        0.107814   \n",
       "2012-02-29         0.043496        0.048422          0.052808        0.055455   \n",
       "2012-03-30         0.032247        0.004298         -0.031156        0.015083   \n",
       "2012-04-30        -0.006676       -0.020769         -0.017006       -0.023208   \n",
       "2012-05-31        -0.060329       -0.111715         -0.107214       -0.110425   \n",
       "...                     ...             ...               ...             ...   \n",
       "2019-05-31        -0.066198       -0.052755         -0.075726       -0.056143   \n",
       "2019-06-28         0.067229        0.056738          0.059691        0.054962   \n",
       "2019-07-31         0.013501       -0.021091         -0.028182       -0.004970   \n",
       "2019-08-30        -0.019007       -0.021504         -0.040085       -0.013188   \n",
       "2019-09-30         0.018047        0.030209          0.015476        0.021125   \n",
       "\n",
       "            Absolute Return  High Yield  Commodities  Real Estate  \\\n",
       "Dates                                                               \n",
       "2012-01-31         0.017167    0.014830     0.022494     0.066191   \n",
       "2012-02-29         0.013161    0.021057     0.060720    -0.006844   \n",
       "2012-03-30        -0.006002   -0.009427    -0.023413     0.044931   \n",
       "2012-04-30        -0.002884    0.011374    -0.005123     0.025843   \n",
       "2012-05-31        -0.012932   -0.032487    -0.130060    -0.042363   \n",
       "...                     ...         ...          ...          ...   \n",
       "2019-05-31        -0.015476   -0.021744    -0.084561    -0.003921   \n",
       "2019-06-28         0.015879    0.029173     0.041941     0.010348   \n",
       "2019-07-31        -0.002933   -0.000054    -0.003736     0.022205   \n",
       "2019-08-30        -0.005225    0.004637    -0.058492     0.032080   \n",
       "2019-09-30         0.002858    0.002970     0.016060     0.017476   \n",
       "\n",
       "            Domestic Bonds  Foreign Bonds  Inflation-Indexed  \n",
       "Dates                                                         \n",
       "2012-01-31        0.008801       0.027549           0.023063  \n",
       "2012-02-29       -0.010903       0.002652          -0.005690  \n",
       "2012-03-30       -0.015821      -0.007660          -0.008505  \n",
       "2012-04-30        0.025090       0.010958           0.017831  \n",
       "2012-05-31        0.028429      -0.029535           0.019190  \n",
       "...                    ...            ...                ...  \n",
       "2019-05-31        0.028056       0.009023           0.015095  \n",
       "2019-06-28        0.009794       0.031919           0.005117  \n",
       "2019-07-31       -0.001231      -0.014542           0.001540  \n",
       "2019-08-30        0.037227       0.016247           0.021039  \n",
       "2019-09-30       -0.013294      -0.011568          -0.012491  \n",
       "\n",
       "[93 rows x 11 columns]"
      ]
     },
     "execution_count": 2,
     "metadata": {},
     "output_type": "execute_result"
    }
   ],
   "source": [
    "data = pd.read_excel('data/assetclass_data_monthly_2009.xlsx',index_col='Dates').loc['2012-01-31':]\n",
    "exret = (data.subtract(data['Cash'],axis=0)).drop('Cash',axis=1)\n",
    "exret"
   ]
  },
  {
   "cell_type": "code",
   "execution_count": 3,
   "metadata": {},
   "outputs": [
    {
     "data": {
      "text/plain": [
       "Domestic Equity      0.131892\n",
       "Foreign Equity       0.067343\n",
       "Emerging Markets     0.035749\n",
       "Private Equity       0.120967\n",
       "Absolute Return      0.017620\n",
       "High Yield           0.047854\n",
       "Commodities         -0.081590\n",
       "Real Estate          0.104229\n",
       "Domestic Bonds       0.022719\n",
       "Foreign Bonds        0.003206\n",
       "Inflation-Indexed    0.011086\n",
       "dtype: float64"
      ]
     },
     "metadata": {},
     "output_type": "display_data"
    },
    {
     "data": {
      "text/plain": [
       "Domestic Equity      0.111171\n",
       "Foreign Equity       0.125506\n",
       "Emerging Markets     0.158514\n",
       "Private Equity       0.149601\n",
       "Absolute Return      0.039516\n",
       "High Yield           0.054427\n",
       "Commodities          0.178036\n",
       "Real Estate          0.128099\n",
       "Domestic Bonds       0.052472\n",
       "Foreign Bonds        0.065159\n",
       "Inflation-Indexed    0.042800\n",
       "dtype: float64"
      ]
     },
     "metadata": {},
     "output_type": "display_data"
    }
   ],
   "source": [
    "# 1.1.a\n",
    "means = exret.mean()*12\n",
    "display(means)\n",
    "stds = exret.std()*12**0.5\n",
    "display(stds)"
   ]
  },
  {
   "cell_type": "code",
   "execution_count": 4,
   "metadata": {},
   "outputs": [
    {
     "data": {
      "text/plain": [
       "Commodities         -0.458280\n",
       "Foreign Bonds        0.049206\n",
       "Emerging Markets     0.225526\n",
       "Inflation-Indexed    0.259008\n",
       "Domestic Bonds       0.432976\n",
       "Absolute Return      0.445904\n",
       "Foreign Equity       0.536569\n",
       "Private Equity       0.808598\n",
       "Real Estate          0.813660\n",
       "High Yield           0.879232\n",
       "Domestic Equity      1.186384\n",
       "dtype: float64"
      ]
     },
     "execution_count": 4,
     "metadata": {},
     "output_type": "execute_result"
    }
   ],
   "source": [
    "# 1.1.b\n",
    "(means/stds).sort_values()"
   ]
  },
  {
   "cell_type": "markdown",
   "metadata": {},
   "source": [
    "##  1.1(c)\n",
    "\n",
    "MV optimization maximizes *Portfolio* Sharpe ratio, but that doesn't mean it only pays attention to *individual security* Sharpe ratio. \n",
    "\n",
    "An individual security can be highly useful to a Portfolio's Sharpe ratio if it has low (or even negative covariances and correlations.) This may be so useful that it makes up for the security having a low Sharpe ratio"
   ]
  },
  {
   "cell_type": "code",
   "execution_count": 5,
   "metadata": {
    "tags": []
   },
   "outputs": [
    {
     "name": "stdout",
     "output_type": "stream",
     "text": [
      "If the asset has negative correlation to many other assets, mathematically more weights will be allocated to the asset to utilize the effects of diverfication.\n"
     ]
    }
   ],
   "source": [
    "# 1.1.c\n",
    "print(\"If the asset has negative correlation to many other assets, mathematically more weights will be allocated to the asset to utilize the effects of diverfication.\")"
   ]
  },
  {
   "cell_type": "code",
   "execution_count": 6,
   "metadata": {},
   "outputs": [
    {
     "data": {
      "text/plain": [
       "Domestic Equity     -0.054437\n",
       "Foreign Equity      -0.053858\n",
       "Emerging Markets    -0.076426\n",
       "Private Equity      -0.058594\n",
       "Absolute Return     -0.015712\n",
       "High Yield          -0.023437\n",
       "Commodities         -0.101064\n",
       "Real Estate         -0.058420\n",
       "Domestic Bonds      -0.021712\n",
       "Foreign Bonds       -0.030645\n",
       "Inflation-Indexed   -0.017457\n",
       "Name: 0.05, dtype: float64"
      ]
     },
     "execution_count": 6,
     "metadata": {},
     "output_type": "execute_result"
    }
   ],
   "source": [
    "# 1.1.d\n",
    "exret.quantile(0.05)"
   ]
  },
  {
   "cell_type": "code",
   "execution_count": 7,
   "metadata": {},
   "outputs": [
    {
     "data": {
      "text/plain": [
       "array([ 5.4138484 , -1.11260963, -0.49440569,  1.27626494, -9.53098678,\n",
       "        2.23630803, -0.50672951, -1.4300182 ,  6.49364741,  0.8050691 ,\n",
       "       -2.15038809])"
      ]
     },
     "execution_count": 7,
     "metadata": {},
     "output_type": "execute_result"
    }
   ],
   "source": [
    "# 1.2.a\n",
    "sigma_mu = np.linalg.inv(exret.cov())@exret.mean()\n",
    "w_tangent = sigma_mu / sigma_mu.sum()\n",
    "w_tangent"
   ]
  },
  {
   "cell_type": "code",
   "execution_count": 8,
   "metadata": {},
   "outputs": [
    {
     "data": {
      "text/plain": [
       "0.16360518595732948"
      ]
     },
     "metadata": {},
     "output_type": "display_data"
    }
   ],
   "source": [
    "# 1.2.b\n",
    "tan_mean_return = w_tangent@exret.mean()\n",
    "rf_mean_return = data['Cash'].mean()\n",
    "delta = 0.01 / tan_mean_return\n",
    "display(delta)"
   ]
  },
  {
   "cell_type": "code",
   "execution_count": 9,
   "metadata": {},
   "outputs": [
    {
     "data": {
      "text/plain": [
       "array([ 0.15682292,  0.06282585,  0.02090762,  0.07942825,  0.16582355,\n",
       "        0.23739175, -0.03782686,  0.0933416 ,  0.12125885,  0.01109745,\n",
       "        0.08892902])"
      ]
     },
     "execution_count": 9,
     "metadata": {},
     "output_type": "execute_result"
    }
   ],
   "source": [
    "# 1.3.a\n",
    "sigma_mu_diag = np.linalg.inv(np.diag(exret.var()))@exret.mean()\n",
    "w_tangent_diag = sigma_mu_diag / sigma_mu_diag.sum()\n",
    "w_tangent_diag"
   ]
  },
  {
   "cell_type": "markdown",
   "metadata": {},
   "source": [
    "## 1.3(b)\n",
    "\n",
    "We are using a biased method because it delivers much smaller variation of estimates. Thus, we have more confidence that this (biased) method will be more useful in out-of-sample data. The classic solution is unbiased, but it varies wildly from in-sample to out-of-sample data, making it less practical."
   ]
  },
  {
   "cell_type": "code",
   "execution_count": 10,
   "metadata": {
    "tags": []
   },
   "outputs": [
    {
     "data": {
      "text/html": [
       "<table class=\"simpletable\">\n",
       "<caption>OLS Regression Results</caption>\n",
       "<tr>\n",
       "  <th>Dep. Variable:</th>     <td>Foreign Equity</td>  <th>  R-squared:         </th> <td>   0.664</td>\n",
       "</tr>\n",
       "<tr>\n",
       "  <th>Model:</th>                   <td>OLS</td>       <th>  Adj. R-squared:    </th> <td>   0.660</td>\n",
       "</tr>\n",
       "<tr>\n",
       "  <th>Method:</th>             <td>Least Squares</td>  <th>  F-statistic:       </th> <td>   179.6</td>\n",
       "</tr>\n",
       "<tr>\n",
       "  <th>Date:</th>             <td>Mon, 12 Jul 2021</td> <th>  Prob (F-statistic):</th> <td>2.95e-23</td>\n",
       "</tr>\n",
       "<tr>\n",
       "  <th>Time:</th>                 <td>17:49:01</td>     <th>  Log-Likelihood:    </th> <td>  227.78</td>\n",
       "</tr>\n",
       "<tr>\n",
       "  <th>No. Observations:</th>      <td>    93</td>      <th>  AIC:               </th> <td>  -451.6</td>\n",
       "</tr>\n",
       "<tr>\n",
       "  <th>Df Residuals:</th>          <td>    91</td>      <th>  BIC:               </th> <td>  -446.5</td>\n",
       "</tr>\n",
       "<tr>\n",
       "  <th>Df Model:</th>              <td>     1</td>      <th>                     </th>     <td> </td>   \n",
       "</tr>\n",
       "<tr>\n",
       "  <th>Covariance Type:</th>      <td>nonrobust</td>    <th>                     </th>     <td> </td>   \n",
       "</tr>\n",
       "</table>\n",
       "<table class=\"simpletable\">\n",
       "<tr>\n",
       "         <td></td>            <th>coef</th>     <th>std err</th>      <th>t</th>      <th>P>|t|</th>  <th>[0.025</th>    <th>0.975]</th>  \n",
       "</tr>\n",
       "<tr>\n",
       "  <th>const</th>           <td>   -0.0045</td> <td>    0.002</td> <td>   -1.941</td> <td> 0.055</td> <td>   -0.009</td> <td>    0.000</td>\n",
       "</tr>\n",
       "<tr>\n",
       "  <th>Domestic Equity</th> <td>    0.9198</td> <td>    0.069</td> <td>   13.403</td> <td> 0.000</td> <td>    0.783</td> <td>    1.056</td>\n",
       "</tr>\n",
       "</table>\n",
       "<table class=\"simpletable\">\n",
       "<tr>\n",
       "  <th>Omnibus:</th>       <td> 0.260</td> <th>  Durbin-Watson:     </th> <td>   1.966</td>\n",
       "</tr>\n",
       "<tr>\n",
       "  <th>Prob(Omnibus):</th> <td> 0.878</td> <th>  Jarque-Bera (JB):  </th> <td>   0.091</td>\n",
       "</tr>\n",
       "<tr>\n",
       "  <th>Skew:</th>          <td>-0.075</td> <th>  Prob(JB):          </th> <td>   0.956</td>\n",
       "</tr>\n",
       "<tr>\n",
       "  <th>Kurtosis:</th>      <td> 3.034</td> <th>  Cond. No.          </th> <td>    31.3</td>\n",
       "</tr>\n",
       "</table><br/><br/>Notes:<br/>[1] Standard Errors assume that the covariance matrix of the errors is correctly specified."
      ],
      "text/plain": [
       "<class 'statsmodels.iolib.summary.Summary'>\n",
       "\"\"\"\n",
       "                            OLS Regression Results                            \n",
       "==============================================================================\n",
       "Dep. Variable:         Foreign Equity   R-squared:                       0.664\n",
       "Model:                            OLS   Adj. R-squared:                  0.660\n",
       "Method:                 Least Squares   F-statistic:                     179.6\n",
       "Date:                Mon, 12 Jul 2021   Prob (F-statistic):           2.95e-23\n",
       "Time:                        17:49:01   Log-Likelihood:                 227.78\n",
       "No. Observations:                  93   AIC:                            -451.6\n",
       "Df Residuals:                      91   BIC:                            -446.5\n",
       "Df Model:                           1                                         \n",
       "Covariance Type:            nonrobust                                         \n",
       "===================================================================================\n",
       "                      coef    std err          t      P>|t|      [0.025      0.975]\n",
       "-----------------------------------------------------------------------------------\n",
       "const              -0.0045      0.002     -1.941      0.055      -0.009       0.000\n",
       "Domestic Equity     0.9198      0.069     13.403      0.000       0.783       1.056\n",
       "==============================================================================\n",
       "Omnibus:                        0.260   Durbin-Watson:                   1.966\n",
       "Prob(Omnibus):                  0.878   Jarque-Bera (JB):                0.091\n",
       "Skew:                          -0.075   Prob(JB):                        0.956\n",
       "Kurtosis:                       3.034   Cond. No.                         31.3\n",
       "==============================================================================\n",
       "\n",
       "Notes:\n",
       "[1] Standard Errors assume that the covariance matrix of the errors is correctly specified.\n",
       "\"\"\""
      ]
     },
     "metadata": {},
     "output_type": "display_data"
    },
    {
     "name": "stdout",
     "output_type": "stream",
     "text": [
      "alpha=-0.004497253603069674\n",
      "beta=0.9197662455262816\n",
      "r-squared=0.6637614061922817\n"
     ]
    }
   ],
   "source": [
    "# 2.1.a\n",
    "res21 = sm.OLS(exret['Foreign Equity'],sm.add_constant(exret['Domestic Equity'])).fit()\n",
    "display(res21.summary())\n",
    "print(f\"alpha={res21.params[0]}\\nbeta={res21.params[1]}\\nr-squared={res21.rsquared}\")"
   ]
  },
  {
   "cell_type": "code",
   "execution_count": 11,
   "metadata": {
    "tags": []
   },
   "outputs": [
    {
     "name": "stdout",
     "output_type": "stream",
     "text": [
      "It implies a short position, because the significant beta indicates a positive correlation, and they need to be hedged in an opposite direction\n"
     ]
    }
   ],
   "source": [
    "# 2.1.b\n",
    "print(\"It implies a short position, because the significant beta indicates a positive correlation, and they need to be hedged in an opposite direction\")"
   ]
  },
  {
   "cell_type": "code",
   "execution_count": 12,
   "metadata": {},
   "outputs": [
    {
     "data": {
      "text/plain": [
       "-0.21406731706178864"
      ]
     },
     "metadata": {},
     "output_type": "display_data"
    }
   ],
   "source": [
    "# 2.1.c\n",
    "info_ratio = res21.params[0]/res21.resid.std()\n",
    "display(info_ratio)"
   ]
  },
  {
   "cell_type": "code",
   "execution_count": 13,
   "metadata": {},
   "outputs": [
    {
     "data": {
      "text/html": [
       "<table class=\"simpletable\">\n",
       "<caption>OLS Regression Results</caption>\n",
       "<tr>\n",
       "  <th>Dep. Variable:</th>     <td>Foreign Equity</td>  <th>  R-squared:         </th> <td>   0.886</td>\n",
       "</tr>\n",
       "<tr>\n",
       "  <th>Model:</th>                   <td>OLS</td>       <th>  Adj. R-squared:    </th> <td>   0.872</td>\n",
       "</tr>\n",
       "<tr>\n",
       "  <th>Method:</th>             <td>Least Squares</td>  <th>  F-statistic:       </th> <td>   63.74</td>\n",
       "</tr>\n",
       "<tr>\n",
       "  <th>Date:</th>             <td>Mon, 12 Jul 2021</td> <th>  Prob (F-statistic):</th> <td>1.99e-34</td>\n",
       "</tr>\n",
       "<tr>\n",
       "  <th>Time:</th>                 <td>17:49:01</td>     <th>  Log-Likelihood:    </th> <td>  278.09</td>\n",
       "</tr>\n",
       "<tr>\n",
       "  <th>No. Observations:</th>      <td>    93</td>      <th>  AIC:               </th> <td>  -534.2</td>\n",
       "</tr>\n",
       "<tr>\n",
       "  <th>Df Residuals:</th>          <td>    82</td>      <th>  BIC:               </th> <td>  -506.3</td>\n",
       "</tr>\n",
       "<tr>\n",
       "  <th>Df Model:</th>              <td>    10</td>      <th>                     </th>     <td> </td>   \n",
       "</tr>\n",
       "<tr>\n",
       "  <th>Covariance Type:</th>      <td>nonrobust</td>    <th>                     </th>     <td> </td>   \n",
       "</tr>\n",
       "</table>\n",
       "<table class=\"simpletable\">\n",
       "<tr>\n",
       "          <td></td>             <th>coef</th>     <th>std err</th>      <th>t</th>      <th>P>|t|</th>  <th>[0.025</th>    <th>0.975]</th>  \n",
       "</tr>\n",
       "<tr>\n",
       "  <th>const</th>             <td>   -0.0014</td> <td>    0.002</td> <td>   -0.851</td> <td> 0.397</td> <td>   -0.005</td> <td>    0.002</td>\n",
       "</tr>\n",
       "<tr>\n",
       "  <th>Domestic Equity</th>   <td>    0.0464</td> <td>    0.123</td> <td>    0.378</td> <td> 0.706</td> <td>   -0.198</td> <td>    0.290</td>\n",
       "</tr>\n",
       "<tr>\n",
       "  <th>Emerging Markets</th>  <td>    0.1854</td> <td>    0.058</td> <td>    3.183</td> <td> 0.002</td> <td>    0.070</td> <td>    0.301</td>\n",
       "</tr>\n",
       "<tr>\n",
       "  <th>Private Equity</th>    <td>    0.4522</td> <td>    0.075</td> <td>    6.020</td> <td> 0.000</td> <td>    0.303</td> <td>    0.602</td>\n",
       "</tr>\n",
       "<tr>\n",
       "  <th>Absolute Return</th>   <td>    0.2158</td> <td>    0.284</td> <td>    0.761</td> <td> 0.449</td> <td>   -0.348</td> <td>    0.780</td>\n",
       "</tr>\n",
       "<tr>\n",
       "  <th>High Yield</th>        <td>    0.2949</td> <td>    0.168</td> <td>    1.759</td> <td> 0.082</td> <td>   -0.039</td> <td>    0.628</td>\n",
       "</tr>\n",
       "<tr>\n",
       "  <th>Commodities</th>       <td>   -0.0090</td> <td>    0.040</td> <td>   -0.224</td> <td> 0.824</td> <td>   -0.089</td> <td>    0.071</td>\n",
       "</tr>\n",
       "<tr>\n",
       "  <th>Real Estate</th>       <td>    0.0063</td> <td>    0.061</td> <td>    0.103</td> <td> 0.918</td> <td>   -0.115</td> <td>    0.127</td>\n",
       "</tr>\n",
       "<tr>\n",
       "  <th>Domestic Bonds</th>    <td>   -0.0167</td> <td>    0.254</td> <td>   -0.065</td> <td> 0.948</td> <td>   -0.523</td> <td>    0.489</td>\n",
       "</tr>\n",
       "<tr>\n",
       "  <th>Foreign Bonds</th>     <td>    0.1360</td> <td>    0.113</td> <td>    1.201</td> <td> 0.233</td> <td>   -0.089</td> <td>    0.361</td>\n",
       "</tr>\n",
       "<tr>\n",
       "  <th>Inflation-Indexed</th> <td>   -0.2366</td> <td>    0.256</td> <td>   -0.923</td> <td> 0.359</td> <td>   -0.747</td> <td>    0.273</td>\n",
       "</tr>\n",
       "</table>\n",
       "<table class=\"simpletable\">\n",
       "<tr>\n",
       "  <th>Omnibus:</th>       <td> 0.003</td> <th>  Durbin-Watson:     </th> <td>   2.348</td>\n",
       "</tr>\n",
       "<tr>\n",
       "  <th>Prob(Omnibus):</th> <td> 0.998</td> <th>  Jarque-Bera (JB):  </th> <td>   0.065</td>\n",
       "</tr>\n",
       "<tr>\n",
       "  <th>Skew:</th>          <td>-0.009</td> <th>  Prob(JB):          </th> <td>   0.968</td>\n",
       "</tr>\n",
       "<tr>\n",
       "  <th>Kurtosis:</th>      <td> 2.872</td> <th>  Cond. No.          </th> <td>    258.</td>\n",
       "</tr>\n",
       "</table><br/><br/>Notes:<br/>[1] Standard Errors assume that the covariance matrix of the errors is correctly specified."
      ],
      "text/plain": [
       "<class 'statsmodels.iolib.summary.Summary'>\n",
       "\"\"\"\n",
       "                            OLS Regression Results                            \n",
       "==============================================================================\n",
       "Dep. Variable:         Foreign Equity   R-squared:                       0.886\n",
       "Model:                            OLS   Adj. R-squared:                  0.872\n",
       "Method:                 Least Squares   F-statistic:                     63.74\n",
       "Date:                Mon, 12 Jul 2021   Prob (F-statistic):           1.99e-34\n",
       "Time:                        17:49:01   Log-Likelihood:                 278.09\n",
       "No. Observations:                  93   AIC:                            -534.2\n",
       "Df Residuals:                      82   BIC:                            -506.3\n",
       "Df Model:                          10                                         \n",
       "Covariance Type:            nonrobust                                         \n",
       "=====================================================================================\n",
       "                        coef    std err          t      P>|t|      [0.025      0.975]\n",
       "-------------------------------------------------------------------------------------\n",
       "const                -0.0014      0.002     -0.851      0.397      -0.005       0.002\n",
       "Domestic Equity       0.0464      0.123      0.378      0.706      -0.198       0.290\n",
       "Emerging Markets      0.1854      0.058      3.183      0.002       0.070       0.301\n",
       "Private Equity        0.4522      0.075      6.020      0.000       0.303       0.602\n",
       "Absolute Return       0.2158      0.284      0.761      0.449      -0.348       0.780\n",
       "High Yield            0.2949      0.168      1.759      0.082      -0.039       0.628\n",
       "Commodities          -0.0090      0.040     -0.224      0.824      -0.089       0.071\n",
       "Real Estate           0.0063      0.061      0.103      0.918      -0.115       0.127\n",
       "Domestic Bonds       -0.0167      0.254     -0.065      0.948      -0.523       0.489\n",
       "Foreign Bonds         0.1360      0.113      1.201      0.233      -0.089       0.361\n",
       "Inflation-Indexed    -0.2366      0.256     -0.923      0.359      -0.747       0.273\n",
       "==============================================================================\n",
       "Omnibus:                        0.003   Durbin-Watson:                   2.348\n",
       "Prob(Omnibus):                  0.998   Jarque-Bera (JB):                0.065\n",
       "Skew:                          -0.009   Prob(JB):                        0.968\n",
       "Kurtosis:                       2.872   Cond. No.                         258.\n",
       "==============================================================================\n",
       "\n",
       "Notes:\n",
       "[1] Standard Errors assume that the covariance matrix of the errors is correctly specified.\n",
       "\"\"\""
      ]
     },
     "execution_count": 13,
     "metadata": {},
     "output_type": "execute_result"
    }
   ],
   "source": [
    "# 2.2.a\n",
    "res22a = sm.OLS(exret['Foreign Equity'],sm.add_constant(exret.loc[:,exret.columns!='Foreign Equity'])).fit()\n",
    "res22a.summary()"
   ]
  },
  {
   "cell_type": "code",
   "execution_count": 14,
   "metadata": {
    "tags": []
   },
   "outputs": [
    {
     "name": "stdout",
     "output_type": "stream",
     "text": [
      "Inflation-Indexed has the smallest beta, while Private Equity has the largest.\n"
     ]
    },
    {
     "data": {
      "text/plain": [
       "Inflation-Indexed   -0.236637\n",
       "Domestic Bonds      -0.016658\n",
       "Commodities         -0.009043\n",
       "Real Estate          0.006275\n",
       "Domestic Equity      0.046404\n",
       "Foreign Bonds        0.135966\n",
       "Emerging Markets     0.185365\n",
       "Absolute Return      0.215842\n",
       "High Yield           0.294902\n",
       "Private Equity       0.452160\n",
       "dtype: float64"
      ]
     },
     "execution_count": 14,
     "metadata": {},
     "output_type": "execute_result"
    }
   ],
   "source": [
    "# 2.2.b\n",
    "print(\"Inflation-Indexed has the smallest beta, while Private Equity has the largest.\")\n",
    "res22a.params[1:].sort_values()"
   ]
  },
  {
   "cell_type": "code",
   "execution_count": 15,
   "metadata": {
    "tags": []
   },
   "outputs": [
    {
     "name": "stdout",
     "output_type": "stream",
     "text": [
      "Single asset regression should give a smaller error out of sample, and multiple asset regression smaller in sample.\n"
     ]
    }
   ],
   "source": [
    "# 2.2.c\n",
    "print(\"Single asset regression should give a smaller error out of sample, and multiple asset regression smaller in sample.\")"
   ]
  },
  {
   "cell_type": "code",
   "execution_count": 16,
   "metadata": {
    "tags": []
   },
   "outputs": [
    {
     "name": "stdout",
     "output_type": "stream",
     "text": [
      "Smaller (in term of absolute value). When it is a perfect model, there should be no alpha. Therefore, the information ratio should be zero.\n"
     ]
    }
   ],
   "source": [
    "# 3.1.a\n",
    "print(\"Smaller (in term of absolute value). When it is a perfect model, there should be no alpha. Therefore, the information ratio should be zero.\")"
   ]
  },
  {
   "cell_type": "code",
   "execution_count": 17,
   "metadata": {
    "tags": []
   },
   "outputs": [
    {
     "name": "stdout",
     "output_type": "stream",
     "text": [
      "Not certain. CAPM model does not specify how well the pricing factor explains the variation of an asset. So we have no guesses on this.\n"
     ]
    }
   ],
   "source": [
    "# 3.1.b\n",
    "print(\"Not certain. CAPM model does not specify how well the pricing factor explains the variation of an asset. So we have no guesses on this.\")"
   ]
  },
  {
   "cell_type": "code",
   "execution_count": 18,
   "metadata": {
    "tags": []
   },
   "outputs": [
    {
     "name": "stdout",
     "output_type": "stream",
     "text": [
      "Treynor ratio will be higher after hedging. becuase the hedging would hedge out the beta to be 0, therefore theoratically the treynor will be large.\n"
     ]
    }
   ],
   "source": [
    "# 3.1.c\n",
    "print(\"Treynor ratio will be higher after hedging. becuase the hedging would hedge out the beta to be 0, therefore theoratically the treynor will be large.\")"
   ]
  }
 ],
 "metadata": {
  "hide_input": false,
  "kernelspec": {
   "display_name": "Python 3",
   "language": "python",
   "name": "python3"
  },
  "language_info": {
   "codemirror_mode": {
    "name": "ipython",
    "version": 3
   },
   "file_extension": ".py",
   "mimetype": "text/x-python",
   "name": "python",
   "nbconvert_exporter": "python",
   "pygments_lexer": "ipython3",
   "version": "3.8.2"
  }
 },
 "nbformat": 4,
 "nbformat_minor": 4
}
