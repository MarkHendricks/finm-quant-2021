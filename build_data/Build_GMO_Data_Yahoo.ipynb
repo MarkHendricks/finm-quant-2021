{
 "cells": [
  {
   "cell_type": "code",
   "execution_count": 1,
   "id": "85199d39",
   "metadata": {},
   "outputs": [],
   "source": [
    "import yfinance as yf\n",
    "import pandas as pd"
   ]
  },
  {
   "cell_type": "code",
   "execution_count": 2,
   "id": "2b2601e8",
   "metadata": {},
   "outputs": [
    {
     "name": "stdout",
     "output_type": "stream",
     "text": [
      "[*********************100%***********************]  2 of 2 completed\n"
     ]
    }
   ],
   "source": [
    "start_date = \"1994-01-01\"\n",
    "end_date = \"2021-07-31\"\n",
    "\n",
    "tickers = ['SPY','GMWAX']\n",
    "\n",
    "tickers = tickers\n",
    "data = yf.download(tickers, start=start_date, end=end_date)['Adj Close']\n",
    "rets = data.resample('M').last().pct_change()\n",
    "rets.dropna(inplace=True)"
   ]
  },
  {
   "cell_type": "code",
   "execution_count": 3,
   "id": "5b71debd",
   "metadata": {},
   "outputs": [],
   "source": [
    "with pd.ExcelWriter('gmo_returns.xlsx') as writer:  \n",
    "    rets.to_excel(writer, sheet_name='total returns')"
   ]
  }
 ],
 "metadata": {
  "kernelspec": {
   "display_name": "Python 3",
   "language": "python",
   "name": "python3"
  },
  "language_info": {
   "codemirror_mode": {
    "name": "ipython",
    "version": 3
   },
   "file_extension": ".py",
   "mimetype": "text/x-python",
   "name": "python",
   "nbconvert_exporter": "python",
   "pygments_lexer": "ipython3",
   "version": "3.8.2"
  }
 },
 "nbformat": 4,
 "nbformat_minor": 5
}
