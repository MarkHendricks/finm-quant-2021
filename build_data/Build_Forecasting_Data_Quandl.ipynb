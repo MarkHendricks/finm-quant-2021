{
 "cells": [
  {
   "cell_type": "code",
   "execution_count": 1,
   "id": "cda1caa6",
   "metadata": {},
   "outputs": [],
   "source": [
    "import numpy as np\n",
    "import pandas as pd\n",
    "\n",
    "import quandl"
   ]
  },
  {
   "cell_type": "markdown",
   "id": "d7ee9975",
   "metadata": {},
   "source": [
    "# Load Data from Quandl"
   ]
  },
  {
   "cell_type": "code",
   "execution_count": 2,
   "id": "0463cb72",
   "metadata": {},
   "outputs": [
    {
     "data": {
      "text/html": [
       "<div>\n",
       "<style scoped>\n",
       "    .dataframe tbody tr th:only-of-type {\n",
       "        vertical-align: middle;\n",
       "    }\n",
       "\n",
       "    .dataframe tbody tr th {\n",
       "        vertical-align: top;\n",
       "    }\n",
       "\n",
       "    .dataframe thead th {\n",
       "        text-align: right;\n",
       "    }\n",
       "</style>\n",
       "<table border=\"1\" class=\"dataframe\">\n",
       "  <thead>\n",
       "    <tr style=\"text-align: right;\">\n",
       "      <th>SP500 Multiples</th>\n",
       "      <th>DP</th>\n",
       "      <th>EP</th>\n",
       "      <th>US10Y</th>\n",
       "    </tr>\n",
       "    <tr>\n",
       "      <th>Date</th>\n",
       "      <th></th>\n",
       "      <th></th>\n",
       "      <th></th>\n",
       "    </tr>\n",
       "  </thead>\n",
       "  <tbody>\n",
       "    <tr>\n",
       "      <th>1993-01-31</th>\n",
       "      <td>2.85</td>\n",
       "      <td>4.44</td>\n",
       "      <td>6.39</td>\n",
       "    </tr>\n",
       "    <tr>\n",
       "      <th>1993-02-28</th>\n",
       "      <td>2.82</td>\n",
       "      <td>4.44</td>\n",
       "      <td>6.03</td>\n",
       "    </tr>\n",
       "    <tr>\n",
       "      <th>1993-03-31</th>\n",
       "      <td>2.77</td>\n",
       "      <td>4.41</td>\n",
       "      <td>6.03</td>\n",
       "    </tr>\n",
       "    <tr>\n",
       "      <th>1993-04-30</th>\n",
       "      <td>2.82</td>\n",
       "      <td>4.44</td>\n",
       "      <td>6.05</td>\n",
       "    </tr>\n",
       "    <tr>\n",
       "      <th>1993-05-31</th>\n",
       "      <td>2.81</td>\n",
       "      <td>4.38</td>\n",
       "      <td>6.16</td>\n",
       "    </tr>\n",
       "    <tr>\n",
       "      <th>...</th>\n",
       "      <td>...</td>\n",
       "      <td>...</td>\n",
       "      <td>...</td>\n",
       "    </tr>\n",
       "    <tr>\n",
       "      <th>2021-02-28</th>\n",
       "      <td>1.49</td>\n",
       "      <td>2.42</td>\n",
       "      <td>1.44</td>\n",
       "    </tr>\n",
       "    <tr>\n",
       "      <th>2021-03-31</th>\n",
       "      <td>1.47</td>\n",
       "      <td>2.47</td>\n",
       "      <td>1.74</td>\n",
       "    </tr>\n",
       "    <tr>\n",
       "      <th>2021-04-30</th>\n",
       "      <td>1.39</td>\n",
       "      <td>2.35</td>\n",
       "      <td>1.65</td>\n",
       "    </tr>\n",
       "    <tr>\n",
       "      <th>2021-05-31</th>\n",
       "      <td>1.39</td>\n",
       "      <td>2.26</td>\n",
       "      <td>1.58</td>\n",
       "    </tr>\n",
       "    <tr>\n",
       "      <th>2021-06-30</th>\n",
       "      <td>1.37</td>\n",
       "      <td>2.19</td>\n",
       "      <td>1.45</td>\n",
       "    </tr>\n",
       "  </tbody>\n",
       "</table>\n",
       "<p>342 rows × 3 columns</p>\n",
       "</div>"
      ],
      "text/plain": [
       "SP500 Multiples    DP    EP  US10Y\n",
       "Date                              \n",
       "1993-01-31       2.85  4.44   6.39\n",
       "1993-02-28       2.82  4.44   6.03\n",
       "1993-03-31       2.77  4.41   6.03\n",
       "1993-04-30       2.82  4.44   6.05\n",
       "1993-05-31       2.81  4.38   6.16\n",
       "...               ...   ...    ...\n",
       "2021-02-28       1.49  2.42   1.44\n",
       "2021-03-31       1.47  2.47   1.74\n",
       "2021-04-30       1.39  2.35   1.65\n",
       "2021-05-31       1.39  2.26   1.58\n",
       "2021-06-30       1.37  2.19   1.45\n",
       "\n",
       "[342 rows x 3 columns]"
      ]
     },
     "execution_count": 2,
     "metadata": {},
     "output_type": "execute_result"
    }
   ],
   "source": [
    "quandl.ApiConfig.api_key = 'API_KEY'\n",
    "\n",
    "start_date = '1993-01-01'\n",
    "end_date = '2021-06-30'\n",
    "\n",
    "sigs_ticks = [\"MULTPL/SP500_DIV_YIELD_MONTH\",\"MULTPL/SP500_EARNINGS_YIELD_MONTH\",\"YC/USA10Y\"]\n",
    "sigs_names = ['DP','EP', 'US10Y']\n",
    "sigs_info = pd.DataFrame({'Name':sigs_names,'Ticker':sigs_ticks}).set_index('Name')\n",
    "\n",
    "signals = pd.DataFrame()\n",
    "for idx,tick in enumerate(sigs_info['Ticker']):\n",
    "    temp = quandl.get(tick, start_date=start_date, end_date=end_date)\n",
    "    temp.columns = [sigs_info.index[idx]]\n",
    "    signals = signals.join(temp,rsuffix='_',how='outer')\n",
    "\n",
    "# some monthly data reported at start of month--assume we do not have it until end of month\n",
    "signals = signals.resample('M').last()\n",
    "signals.columns.name = 'SP500 Multiples'\n",
    "signals"
   ]
  },
  {
   "cell_type": "code",
   "execution_count": 3,
   "id": "febd105f",
   "metadata": {},
   "outputs": [],
   "source": [
    "spy_tick = 'EOD/SPY'\n",
    "spy = quandl.get(spy_tick, start_date=start_date, end_date=end_date)[['Adj_Close']]\n",
    "spy_rets = spy.resample('M').last().pct_change()\n",
    "spy_rets.columns = ['SPY']\n",
    "\n",
    "rf_tick = 'YC/USA3M'\n",
    "rf = quandl.get(rf_tick, start_date=start_date, end_date=end_date)\n",
    "rf = rf.resample('M').last()/(12*100)\n",
    "rf.rename(columns={'Rate':'US3M'},inplace=True)"
   ]
  },
  {
   "cell_type": "code",
   "execution_count": 4,
   "id": "3834dbc2",
   "metadata": {},
   "outputs": [],
   "source": [
    "rets = spy_rets.join(rf,how='inner')\n",
    "retsx = rets['SPY'].sub(rets['US3M']).to_frame().rename(columns={0:'SPY'})"
   ]
  },
  {
   "cell_type": "markdown",
   "id": "3d52aeba",
   "metadata": {},
   "source": [
    "# Save Data to Excel"
   ]
  },
  {
   "cell_type": "code",
   "execution_count": null,
   "id": "6f2a3813",
   "metadata": {},
   "outputs": [],
   "source": [
    "with pd.ExcelWriter('sp500_fundamentals.xlsx') as writer:  \n",
    "    signals.to_excel(writer, sheet_name= 'fundamentals')\n",
    "    rets.to_excel(writer, sheet_name='total returns')\n",
    "    #retsx.to_excel(writer, sheet_name='excess returns')"
   ]
  }
 ],
 "metadata": {
  "kernelspec": {
   "display_name": "Python 3",
   "language": "python",
   "name": "python3"
  },
  "language_info": {
   "codemirror_mode": {
    "name": "ipython",
    "version": 3
   },
   "file_extension": ".py",
   "mimetype": "text/x-python",
   "name": "python",
   "nbconvert_exporter": "python",
   "pygments_lexer": "ipython3",
   "version": "3.8.2"
  }
 },
 "nbformat": 4,
 "nbformat_minor": 5
}
