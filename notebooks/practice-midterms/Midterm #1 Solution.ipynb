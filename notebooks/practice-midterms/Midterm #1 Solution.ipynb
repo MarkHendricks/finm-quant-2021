{
 "cells": [
  {
   "cell_type": "code",
   "execution_count": 1,
   "metadata": {},
   "outputs": [],
   "source": [
    "import numpy as np\n",
    "import pandas as pd\n",
    "import statsmodels.api as sm"
   ]
  },
  {
   "cell_type": "markdown",
   "metadata": {},
   "source": [
    "### Load Data"
   ]
  },
  {
   "cell_type": "code",
   "execution_count": 2,
   "metadata": {},
   "outputs": [
    {
     "data": {
      "text/html": [
       "<div>\n",
       "<style scoped>\n",
       "    .dataframe tbody tr th:only-of-type {\n",
       "        vertical-align: middle;\n",
       "    }\n",
       "\n",
       "    .dataframe tbody tr th {\n",
       "        vertical-align: top;\n",
       "    }\n",
       "\n",
       "    .dataframe thead th {\n",
       "        text-align: right;\n",
       "    }\n",
       "</style>\n",
       "<table border=\"1\" class=\"dataframe\">\n",
       "  <thead>\n",
       "    <tr style=\"text-align: right;\">\n",
       "      <th></th>\n",
       "      <th>gross</th>\n",
       "      <th>net</th>\n",
       "      <th>Total Index</th>\n",
       "      <th>Convertible Arbitrage</th>\n",
       "      <th>Dedicated Short Bias</th>\n",
       "      <th>Emerging Markets</th>\n",
       "      <th>Equity Market Neutral</th>\n",
       "      <th>Event Driven</th>\n",
       "      <th>Event Driven Distressed</th>\n",
       "      <th>Event Driven Multi-Strategy</th>\n",
       "      <th>Event Driven Risk Arbitrage</th>\n",
       "      <th>Fixed Income Arbitrage</th>\n",
       "      <th>Global Macro</th>\n",
       "      <th>Long/Short Equity</th>\n",
       "      <th>Managed Futures</th>\n",
       "      <th>Multi-Strategy</th>\n",
       "      <th>Market Equity Index</th>\n",
       "    </tr>\n",
       "    <tr>\n",
       "      <th>date</th>\n",
       "      <th></th>\n",
       "      <th></th>\n",
       "      <th></th>\n",
       "      <th></th>\n",
       "      <th></th>\n",
       "      <th></th>\n",
       "      <th></th>\n",
       "      <th></th>\n",
       "      <th></th>\n",
       "      <th></th>\n",
       "      <th></th>\n",
       "      <th></th>\n",
       "      <th></th>\n",
       "      <th></th>\n",
       "      <th></th>\n",
       "      <th></th>\n",
       "      <th></th>\n",
       "    </tr>\n",
       "  </thead>\n",
       "  <tbody>\n",
       "    <tr>\n",
       "      <td>1994-04-30</td>\n",
       "      <td>0.0658</td>\n",
       "      <td>0.0508</td>\n",
       "      <td>-0.0196</td>\n",
       "      <td>-0.0274</td>\n",
       "      <td>0.0106</td>\n",
       "      <td>-0.0858</td>\n",
       "      <td>0.0003</td>\n",
       "      <td>-0.0088</td>\n",
       "      <td>-0.0093</td>\n",
       "      <td>-0.0079</td>\n",
       "      <td>-0.0118</td>\n",
       "      <td>-0.0042</td>\n",
       "      <td>-0.0181</td>\n",
       "      <td>-0.0178</td>\n",
       "      <td>0.0064</td>\n",
       "      <td>0.0236</td>\n",
       "      <td>0.0068</td>\n",
       "    </tr>\n",
       "    <tr>\n",
       "      <td>1994-05-31</td>\n",
       "      <td>-0.0415</td>\n",
       "      <td>-0.0315</td>\n",
       "      <td>0.0198</td>\n",
       "      <td>-0.0127</td>\n",
       "      <td>0.0200</td>\n",
       "      <td>-0.0098</td>\n",
       "      <td>-0.0036</td>\n",
       "      <td>-0.0040</td>\n",
       "      <td>-0.0109</td>\n",
       "      <td>0.0044</td>\n",
       "      <td>0.0000</td>\n",
       "      <td>0.0054</td>\n",
       "      <td>0.0355</td>\n",
       "      <td>0.0032</td>\n",
       "      <td>0.0051</td>\n",
       "      <td>-0.0372</td>\n",
       "      <td>0.0057</td>\n",
       "    </tr>\n",
       "    <tr>\n",
       "      <td>1994-06-30</td>\n",
       "      <td>0.1137</td>\n",
       "      <td>0.0817</td>\n",
       "      <td>-0.0104</td>\n",
       "      <td>-0.0002</td>\n",
       "      <td>0.0612</td>\n",
       "      <td>0.0024</td>\n",
       "      <td>0.0047</td>\n",
       "      <td>-0.0036</td>\n",
       "      <td>-0.0118</td>\n",
       "      <td>0.0060</td>\n",
       "      <td>-0.0005</td>\n",
       "      <td>-0.0063</td>\n",
       "      <td>-0.0115</td>\n",
       "      <td>-0.0254</td>\n",
       "      <td>0.0392</td>\n",
       "      <td>0.0338</td>\n",
       "      <td>-0.0303</td>\n",
       "    </tr>\n",
       "    <tr>\n",
       "      <td>1994-07-31</td>\n",
       "      <td>0.0355</td>\n",
       "      <td>0.0275</td>\n",
       "      <td>0.0010</td>\n",
       "      <td>-0.0011</td>\n",
       "      <td>-0.0143</td>\n",
       "      <td>0.0556</td>\n",
       "      <td>-0.0125</td>\n",
       "      <td>0.0029</td>\n",
       "      <td>0.0155</td>\n",
       "      <td>-0.0121</td>\n",
       "      <td>0.0032</td>\n",
       "      <td>-0.0043</td>\n",
       "      <td>-0.0060</td>\n",
       "      <td>0.0104</td>\n",
       "      <td>-0.0126</td>\n",
       "      <td>-0.0248</td>\n",
       "      <td>0.0281</td>\n",
       "    </tr>\n",
       "    <tr>\n",
       "      <td>1994-08-31</td>\n",
       "      <td>-0.0061</td>\n",
       "      <td>-0.0051</td>\n",
       "      <td>0.0256</td>\n",
       "      <td>-0.0025</td>\n",
       "      <td>-0.0587</td>\n",
       "      <td>0.1621</td>\n",
       "      <td>-0.0120</td>\n",
       "      <td>0.0061</td>\n",
       "      <td>0.0183</td>\n",
       "      <td>-0.0093</td>\n",
       "      <td>0.0148</td>\n",
       "      <td>-0.0030</td>\n",
       "      <td>0.0254</td>\n",
       "      <td>0.0143</td>\n",
       "      <td>-0.0048</td>\n",
       "      <td>-0.0345</td>\n",
       "      <td>0.0401</td>\n",
       "    </tr>\n",
       "  </tbody>\n",
       "</table>\n",
       "</div>"
      ],
      "text/plain": [
       "             gross     net  Total Index  Convertible Arbitrage  \\\n",
       "date                                                             \n",
       "1994-04-30  0.0658  0.0508      -0.0196                -0.0274   \n",
       "1994-05-31 -0.0415 -0.0315       0.0198                -0.0127   \n",
       "1994-06-30  0.1137  0.0817      -0.0104                -0.0002   \n",
       "1994-07-31  0.0355  0.0275       0.0010                -0.0011   \n",
       "1994-08-31 -0.0061 -0.0051       0.0256                -0.0025   \n",
       "\n",
       "            Dedicated Short Bias  Emerging Markets  Equity Market Neutral  \\\n",
       "date                                                                        \n",
       "1994-04-30                0.0106           -0.0858                 0.0003   \n",
       "1994-05-31                0.0200           -0.0098                -0.0036   \n",
       "1994-06-30                0.0612            0.0024                 0.0047   \n",
       "1994-07-31               -0.0143            0.0556                -0.0125   \n",
       "1994-08-31               -0.0587            0.1621                -0.0120   \n",
       "\n",
       "            Event Driven  Event Driven Distressed  \\\n",
       "date                                                \n",
       "1994-04-30       -0.0088                  -0.0093   \n",
       "1994-05-31       -0.0040                  -0.0109   \n",
       "1994-06-30       -0.0036                  -0.0118   \n",
       "1994-07-31        0.0029                   0.0155   \n",
       "1994-08-31        0.0061                   0.0183   \n",
       "\n",
       "            Event Driven Multi-Strategy  Event Driven Risk Arbitrage  \\\n",
       "date                                                                   \n",
       "1994-04-30                      -0.0079                      -0.0118   \n",
       "1994-05-31                       0.0044                       0.0000   \n",
       "1994-06-30                       0.0060                      -0.0005   \n",
       "1994-07-31                      -0.0121                       0.0032   \n",
       "1994-08-31                      -0.0093                       0.0148   \n",
       "\n",
       "            Fixed Income Arbitrage  Global Macro  Long/Short Equity  \\\n",
       "date                                                                  \n",
       "1994-04-30                 -0.0042       -0.0181            -0.0178   \n",
       "1994-05-31                  0.0054        0.0355             0.0032   \n",
       "1994-06-30                 -0.0063       -0.0115            -0.0254   \n",
       "1994-07-31                 -0.0043       -0.0060             0.0104   \n",
       "1994-08-31                 -0.0030        0.0254             0.0143   \n",
       "\n",
       "            Managed Futures  Multi-Strategy  Market Equity Index  \n",
       "date                                                              \n",
       "1994-04-30           0.0064          0.0236               0.0068  \n",
       "1994-05-31           0.0051         -0.0372               0.0057  \n",
       "1994-06-30           0.0392          0.0338              -0.0303  \n",
       "1994-07-31          -0.0126         -0.0248               0.0281  \n",
       "1994-08-31          -0.0048         -0.0345               0.0401  "
      ]
     },
     "execution_count": 2,
     "metadata": {},
     "output_type": "execute_result"
    }
   ],
   "source": [
    "df = pd.read_excel('hedge_data.xls', sheet_name = [0,1,2], index_col = 0)\n",
    "df = pd.concat(df.values(), axis=1).loc[:'1998-06',]\n",
    "df.head()"
   ]
  },
  {
   "cell_type": "markdown",
   "metadata": {},
   "source": [
    "### Q1 Allocation\n",
    "\n",
    "#### 1(a) Summary Statistics"
   ]
  },
  {
   "cell_type": "code",
   "execution_count": 3,
   "metadata": {},
   "outputs": [
    {
     "data": {
      "text/html": [
       "<div>\n",
       "<style scoped>\n",
       "    .dataframe tbody tr th:only-of-type {\n",
       "        vertical-align: middle;\n",
       "    }\n",
       "\n",
       "    .dataframe tbody tr th {\n",
       "        vertical-align: top;\n",
       "    }\n",
       "\n",
       "    .dataframe thead th {\n",
       "        text-align: right;\n",
       "    }\n",
       "</style>\n",
       "<table border=\"1\" class=\"dataframe\">\n",
       "  <thead>\n",
       "    <tr style=\"text-align: right;\">\n",
       "      <th></th>\n",
       "      <th>mean return</th>\n",
       "      <th>volatility</th>\n",
       "      <th>Sharpe ratio</th>\n",
       "    </tr>\n",
       "  </thead>\n",
       "  <tbody>\n",
       "    <tr>\n",
       "      <td>Total Index</td>\n",
       "      <td>0.131929</td>\n",
       "      <td>0.084846</td>\n",
       "      <td>1.554931</td>\n",
       "    </tr>\n",
       "    <tr>\n",
       "      <td>Convertible Arbitrage</td>\n",
       "      <td>0.054118</td>\n",
       "      <td>0.035637</td>\n",
       "      <td>1.518564</td>\n",
       "    </tr>\n",
       "    <tr>\n",
       "      <td>Dedicated Short Bias</td>\n",
       "      <td>-0.055647</td>\n",
       "      <td>0.150176</td>\n",
       "      <td>-0.370545</td>\n",
       "    </tr>\n",
       "    <tr>\n",
       "      <td>Emerging Markets</td>\n",
       "      <td>0.031624</td>\n",
       "      <td>0.185129</td>\n",
       "      <td>0.170819</td>\n",
       "    </tr>\n",
       "    <tr>\n",
       "      <td>Equity Market Neutral</td>\n",
       "      <td>0.059224</td>\n",
       "      <td>0.037148</td>\n",
       "      <td>1.594258</td>\n",
       "    </tr>\n",
       "    <tr>\n",
       "      <td>Event Driven</td>\n",
       "      <td>0.094800</td>\n",
       "      <td>0.040418</td>\n",
       "      <td>2.345470</td>\n",
       "    </tr>\n",
       "    <tr>\n",
       "      <td>Event Driven Distressed</td>\n",
       "      <td>0.121929</td>\n",
       "      <td>0.054472</td>\n",
       "      <td>2.238380</td>\n",
       "    </tr>\n",
       "    <tr>\n",
       "      <td>Event Driven Multi-Strategy</td>\n",
       "      <td>0.077835</td>\n",
       "      <td>0.046771</td>\n",
       "      <td>1.664185</td>\n",
       "    </tr>\n",
       "    <tr>\n",
       "      <td>Event Driven Risk Arbitrage</td>\n",
       "      <td>0.056047</td>\n",
       "      <td>0.033577</td>\n",
       "      <td>1.669220</td>\n",
       "    </tr>\n",
       "    <tr>\n",
       "      <td>Fixed Income Arbitrage</td>\n",
       "      <td>0.043718</td>\n",
       "      <td>0.025507</td>\n",
       "      <td>1.713978</td>\n",
       "    </tr>\n",
       "    <tr>\n",
       "      <td>Global Macro</td>\n",
       "      <td>0.201600</td>\n",
       "      <td>0.136795</td>\n",
       "      <td>1.473739</td>\n",
       "    </tr>\n",
       "    <tr>\n",
       "      <td>Long/Short Equity</td>\n",
       "      <td>0.109906</td>\n",
       "      <td>0.083180</td>\n",
       "      <td>1.321302</td>\n",
       "    </tr>\n",
       "    <tr>\n",
       "      <td>Managed Futures</td>\n",
       "      <td>-0.003435</td>\n",
       "      <td>0.115297</td>\n",
       "      <td>-0.029795</td>\n",
       "    </tr>\n",
       "    <tr>\n",
       "      <td>Multi-Strategy</td>\n",
       "      <td>0.059788</td>\n",
       "      <td>0.051891</td>\n",
       "      <td>1.152193</td>\n",
       "    </tr>\n",
       "  </tbody>\n",
       "</table>\n",
       "</div>"
      ],
      "text/plain": [
       "                             mean return  volatility  Sharpe ratio\n",
       "Total Index                     0.131929    0.084846      1.554931\n",
       "Convertible Arbitrage           0.054118    0.035637      1.518564\n",
       "Dedicated Short Bias           -0.055647    0.150176     -0.370545\n",
       "Emerging Markets                0.031624    0.185129      0.170819\n",
       "Equity Market Neutral           0.059224    0.037148      1.594258\n",
       "Event Driven                    0.094800    0.040418      2.345470\n",
       "Event Driven Distressed         0.121929    0.054472      2.238380\n",
       "Event Driven Multi-Strategy     0.077835    0.046771      1.664185\n",
       "Event Driven Risk Arbitrage     0.056047    0.033577      1.669220\n",
       "Fixed Income Arbitrage          0.043718    0.025507      1.713978\n",
       "Global Macro                    0.201600    0.136795      1.473739\n",
       "Long/Short Equity               0.109906    0.083180      1.321302\n",
       "Managed Futures                -0.003435    0.115297     -0.029795\n",
       "Multi-Strategy                  0.059788    0.051891      1.152193"
      ]
     },
     "execution_count": 3,
     "metadata": {},
     "output_type": "execute_result"
    }
   ],
   "source": [
    "funds_name = df.columns[2:-1]\n",
    "funds = df[funds_name]\n",
    "mean_ret_funds = funds.mean() * 12\n",
    "vol_funds = funds.std() * np.sqrt(12)\n",
    "SR_funds = mean_ret_funds / vol_funds\n",
    "pd.DataFrame({'mean return': mean_ret_funds, 'volatility': vol_funds, 'Sharpe ratio':SR_funds})"
   ]
  },
  {
   "cell_type": "markdown",
   "metadata": {},
   "source": [
    "#### 1(b)\n",
    "\n",
    "Event Driven has the best sharpe ratio, while Dedicated Short Bias has the worst sharpe ratio"
   ]
  },
  {
   "cell_type": "markdown",
   "metadata": {},
   "source": [
    "#### 1(c)\n",
    "\n",
    "Even if an asset has a bad Sharpe Ratio individually, it may have low correlation to the other securities such that it diversifies the overall risk. So while it may not have a great return-to-risk tradeoff individually, it can have a good return-to-risk tradeoff with respect to the marginal impact on the portfolio. "
   ]
  },
  {
   "cell_type": "markdown",
   "metadata": {},
   "source": [
    "#### 1(d)"
   ]
  },
  {
   "cell_type": "code",
   "execution_count": 4,
   "metadata": {},
   "outputs": [
    {
     "data": {
      "text/plain": [
       "Total Index                   -0.02160\n",
       "Convertible Arbitrage         -0.01545\n",
       "Dedicated Short Bias          -0.07010\n",
       "Emerging Markets              -0.08435\n",
       "Equity Market Neutral         -0.01230\n",
       "Event Driven                  -0.01180\n",
       "Event Driven Distressed       -0.01525\n",
       "Event Driven Multi-Strategy   -0.01510\n",
       "Event Driven Risk Arbitrage   -0.00990\n",
       "Fixed Income Arbitrage        -0.01040\n",
       "Global Macro                  -0.02775\n",
       "Long/Short Equity             -0.02625\n",
       "Managed Futures               -0.05625\n",
       "Multi-Strategy                -0.02760\n",
       "Name: 0.05, dtype: float64"
      ]
     },
     "execution_count": 4,
     "metadata": {},
     "output_type": "execute_result"
    }
   ],
   "source": [
    "funds.quantile(0.05)"
   ]
  },
  {
   "cell_type": "markdown",
   "metadata": {},
   "source": [
    "#### 2(a)"
   ]
  },
  {
   "cell_type": "code",
   "execution_count": 5,
   "metadata": {},
   "outputs": [
    {
     "data": {
      "text/plain": [
       "Total Index                   -0.607763\n",
       "Convertible Arbitrage         -0.111832\n",
       "Dedicated Short Bias           0.101699\n",
       "Emerging Markets               0.004128\n",
       "Equity Market Neutral          0.140937\n",
       "Event Driven                  -0.829420\n",
       "Event Driven Distressed        0.787013\n",
       "Event Driven Multi-Strategy    0.214434\n",
       "Event Driven Risk Arbitrage    0.486110\n",
       "Fixed Income Arbitrage         0.387043\n",
       "Global Macro                   0.375383\n",
       "Long/Short Equity              0.094926\n",
       "Managed Futures               -0.085109\n",
       "Multi-Strategy                 0.042451\n",
       "dtype: float64"
      ]
     },
     "execution_count": 5,
     "metadata": {},
     "output_type": "execute_result"
    }
   ],
   "source": [
    "def compute_mv(data, diag=False):\n",
    "    mu_tilde = data.mean()\n",
    "    covariance = data.cov()\n",
    "    if diag:\n",
    "        covariance = np.diag(np.diag(covariance))\n",
    "    N = covariance.shape[0]\n",
    "    cov_inv = np.linalg.inv(covariance)\n",
    "    omega_tan = cov_inv @ mu_tilde /(np.ones(N) @ cov_inv @ mu_tilde)\n",
    "    return pd.Series(omega_tan,index=data.columns)\n",
    "\n",
    "omega_tan = compute_mv(funds)\n",
    "omega_tan"
   ]
  },
  {
   "cell_type": "markdown",
   "metadata": {},
   "source": [
    "#### 3(a) "
   ]
  },
  {
   "cell_type": "code",
   "execution_count": 6,
   "metadata": {},
   "outputs": [
    {
     "data": {
      "text/plain": [
       "Total Index                    0.045529\n",
       "Convertible Arbitrage          0.105860\n",
       "Dedicated Short Bias          -0.006130\n",
       "Emerging Markets               0.002292\n",
       "Equity Market Neutral          0.106617\n",
       "Event Driven                   0.144163\n",
       "Event Driven Distressed        0.102085\n",
       "Event Driven Multi-Strategy    0.088395\n",
       "Event Driven Risk Arbitrage    0.123503\n",
       "Fixed Income Arbitrage         0.166939\n",
       "Global Macro                   0.026764\n",
       "Long/Short Equity              0.039463\n",
       "Managed Futures               -0.000642\n",
       "Multi-Strategy                 0.055162\n",
       "dtype: float64"
      ]
     },
     "execution_count": 6,
     "metadata": {},
     "output_type": "execute_result"
    }
   ],
   "source": [
    "omega_tan_diag = compute_mv(funds, True)\n",
    "omega_tan_diag"
   ]
  },
  {
   "cell_type": "markdown",
   "metadata": {},
   "source": [
    "#### 3(b)\n",
    "\n",
    "Based on HW#1 and class discussion, we expect the diagonalized version to do better out-of-sample. Though it is a biased estimate (we are purposely using the wrong covariance matrix!) this is worth higher statistical precision. If we use the full covariance matrix in the tangency formula, it is an input to the formula which is very imprecisely estimated, then inverted to make it even more imprecise, then we get extremely imprecise outputs. "
   ]
  },
  {
   "cell_type": "markdown",
   "metadata": {},
   "source": [
    "#### 3(c)\n",
    "\n",
    "Different objective function (care about quantiles not variance?) different constraints (limits to long-short holdings), etc. Also fine if they talk about non-normality of returns or non iid returns."
   ]
  },
  {
   "cell_type": "markdown",
   "metadata": {},
   "source": [
    "### Q2 Performance\n",
    "\n",
    "#### 1(a)  \n",
    "\n",
    "see df"
   ]
  },
  {
   "cell_type": "markdown",
   "metadata": {},
   "source": [
    "#### 2(a) "
   ]
  },
  {
   "cell_type": "code",
   "execution_count": 7,
   "metadata": {},
   "outputs": [
    {
     "name": "stdout",
     "output_type": "stream",
     "text": [
      "alpha is 0.0135, beta is 0.0497, and R^2 is 0.0014\n"
     ]
    },
    {
     "name": "stderr",
     "output_type": "stream",
     "text": [
      "c:\\users\\shu\\appdata\\local\\programs\\python\\python37\\lib\\site-packages\\numpy\\core\\fromnumeric.py:2495: FutureWarning: Method .ptp is deprecated and will be removed in a future version. Use numpy.ptp instead.\n",
      "  return ptp(axis=axis, out=out, **kwargs)\n"
     ]
    }
   ],
   "source": [
    "y = df['net']\n",
    "X = sm.add_constant(df['Total Index'])\n",
    "res = sm.OLS(y,X,missing='drop').fit()\n",
    "alpha, beta = res.params\n",
    "rsquared = res.rsquared\n",
    "print(f'alpha is {alpha:.4f}, beta is {beta:.4f}, and R^2 is {rsquared:.4f}')"
   ]
  },
  {
   "cell_type": "markdown",
   "metadata": {},
   "source": [
    "#### 2(b) \n",
    "\n",
    "No. The intercept significantly above 0, indicating existence of other factors."
   ]
  },
  {
   "cell_type": "markdown",
   "metadata": {},
   "source": [
    "#### 2(c)\n",
    "\n",
    "No. The $R^2$ is very small, and only 0.14% of the variation is explained by the Total Index"
   ]
  },
  {
   "cell_type": "markdown",
   "metadata": {},
   "source": [
    "#### 2(d)\n",
    "\n",
    "If the Total Index goes up by 1%, we would expect return of LTCM goes uo by 0.0497% that month"
   ]
  },
  {
   "cell_type": "markdown",
   "metadata": {},
   "source": [
    "#### 3(a)"
   ]
  },
  {
   "cell_type": "code",
   "execution_count": 8,
   "metadata": {},
   "outputs": [
    {
     "name": "stdout",
     "output_type": "stream",
     "text": [
      "IR is 0.4144\n"
     ]
    }
   ],
   "source": [
    "resid_vol = res.resid.std()\n",
    "IR = alpha / resid_vol\n",
    "print(f'IR is {IR:.4f}')"
   ]
  },
  {
   "cell_type": "markdown",
   "metadata": {},
   "source": [
    "#### 3(b)\n",
    "\n",
    "The Info Ratio tells us the Sharpe Ratio of the LTCM return relative to the benchmark. (So any discussion of it as a relative mean per relative risk tradeoff—doesn’t is OK)"
   ]
  },
  {
   "cell_type": "markdown",
   "metadata": {},
   "source": [
    "### Q3 Pricing"
   ]
  },
  {
   "cell_type": "markdown",
   "metadata": {},
   "source": [
    "#### 1\n",
    "\n",
    "alpha = 0 (i.e. insignificant). Mean return of LTCM can be perfectly explained by the Total Index, and no intercept left\n",
    "\n",
    "beta = $\\frac{Cov(r_{LTCM}, r_{total\\_index})}{Var(r_{total\\_index})}$\n",
    "\n",
    "r-squared can be any value. The pricing model does not account for the variation of returns. It's a model reflecting relationship between mean returns. "
   ]
  },
  {
   "cell_type": "markdown",
   "metadata": {},
   "source": [
    "#### 2\n",
    "\n",
    "Two approaches on this question, largely depending on whether you read this as a comparison to the ESTIMATED tangency which you computed before or to the TRUE (theoretical) tangency which itself works as a perfect LFPM.\n",
    "\n",
    "One good answer: The tangency portfolio is the perfect LFPM by construction First Theorem of Asset Pricing. Thus, if the Total Index works as the LFPM, then the Total Index must be the (correctly estimated) tangency portfolio. Thus, they are the same SR.\n",
    "\n",
    "Another good answer: If the Total Index is the perfect LFPM, then we know that expected excess return is only earned by having beta (and correlation) to it. Volatility from any other source is not adding expected mean return. Thus, the most efficient mean-per-vol one can get is through the factor itself. (In the notes we show SR of anything is SR of the perfect factor multiplied by the correlation between the two.) Thus, the Total Index has the max SR ratio and will be higher than the SR of the estimated version of the tangency portfolio. (It will be equal to the theoretical tangency portfolio, per the other argument above.)\n"
   ]
  },
  {
   "cell_type": "code",
   "execution_count": null,
   "metadata": {},
   "outputs": [],
   "source": []
  }
 ],
 "metadata": {
  "kernelspec": {
   "display_name": "Python 3",
   "language": "python",
   "name": "python3"
  },
  "language_info": {
   "codemirror_mode": {
    "name": "ipython",
    "version": 3
   },
   "file_extension": ".py",
   "mimetype": "text/x-python",
   "name": "python",
   "nbconvert_exporter": "python",
   "pygments_lexer": "ipython3",
   "version": "3.8.2"
  }
 },
 "nbformat": 4,
 "nbformat_minor": 2
}
